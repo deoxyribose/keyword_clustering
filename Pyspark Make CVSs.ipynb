{
 "cells": [
  {
   "cell_type": "code",
   "execution_count": 1,
   "metadata": {},
   "outputs": [],
   "source": [
    "from pyspark.sql import SparkSession\n",
    "from pyspark.sql import functions as F\n",
    "from pyspark.ml.feature import CountVectorizer\n",
    "from pyspark.sql.functions import udf\n",
    "from pyspark.ml.linalg import SparseVector, Vectors, VectorUDT\n",
    "from pyspark.sql.types import ArrayType, IntegerType"
   ]
  },
  {
   "cell_type": "code",
   "execution_count": 2,
   "metadata": {},
   "outputs": [],
   "source": [
    "spark = SparkSession \\\n",
    "    .builder \\\n",
    "    .appName(\"Keyword clustering\") \\\n",
    "    .getOrCreate()"
   ]
  },
  {
   "cell_type": "code",
   "execution_count": 3,
   "metadata": {},
   "outputs": [
    {
     "data": {
      "text/plain": [
       "'3.1.1'"
      ]
     },
     "execution_count": 3,
     "metadata": {},
     "output_type": "execute_result"
    }
   ],
   "source": [
    "spark.version"
   ]
  },
  {
   "cell_type": "code",
   "execution_count": 4,
   "metadata": {},
   "outputs": [],
   "source": [
    "sc = spark.sparkContext"
   ]
  },
  {
   "cell_type": "code",
   "execution_count": 5,
   "metadata": {},
   "outputs": [],
   "source": [
    "df = spark.read.csv('./search_results.csv', header=True)"
   ]
  },
  {
   "cell_type": "code",
   "execution_count": 6,
   "metadata": {},
   "outputs": [],
   "source": [
    "df = df.drop('Title', '_id')"
   ]
  },
  {
   "cell_type": "code",
   "execution_count": 7,
   "metadata": {},
   "outputs": [
    {
     "name": "stdout",
     "output_type": "stream",
     "text": [
      "+--------------------+--------------------+\n",
      "|             Keyword|                 Url|\n",
      "+--------------------+--------------------+\n",
      "|sump pump next to...|https://www.mlive...|\n",
      "|sump pump next to...|https://www.famil...|\n",
      "|sump pump next to...|https://diy.stack...|\n",
      "+--------------------+--------------------+\n",
      "only showing top 3 rows\n",
      "\n"
     ]
    }
   ],
   "source": [
    "df.show(3)"
   ]
  },
  {
   "cell_type": "code",
   "execution_count": 8,
   "metadata": {},
   "outputs": [
    {
     "data": {
      "text/plain": [
       "['Keyword', 'Url']"
      ]
     },
     "execution_count": 8,
     "metadata": {},
     "output_type": "execute_result"
    }
   ],
   "source": [
    "df.columns"
   ]
  },
  {
   "cell_type": "code",
   "execution_count": 9,
   "metadata": {},
   "outputs": [],
   "source": [
    "keyword2url = df.groupBy('Keyword') \\\n",
    "  .agg(F.collect_list('url').alias('urlIndex'))"
   ]
  },
  {
   "cell_type": "code",
   "execution_count": 10,
   "metadata": {},
   "outputs": [
    {
     "name": "stdout",
     "output_type": "stream",
     "text": [
      "+--------------------+--------------------+\n",
      "|             Keyword|            urlIndex|\n",
      "+--------------------+--------------------+\n",
      "|1/4 vs 1/3 sump pump|[https://www.ag.n...|\n",
      "|2 stage dry sump ...|[https://www.drys...|\n",
      "|3 phase sump pump...|[https://www.sept...|\n",
      "|6-cia-ml 1/3 hp s...|[https://www.home...|\n",
      "|add battery to ex...|[https://combatwa...|\n",
      "|add battery to su...|[https://resource...|\n",
      "|adjusting zoeller...|[https://www.zoel...|\n",
      "|average sump pump...|[https://www.rado...|\n",
      "|battery backup su...|[https://www.home...|\n",
      "|best sump pump fo...|[https://www.pres...|\n",
      "|best way to drain...|[https://www.base...|\n",
      "|big john automati...|[https://www.norr...|\n",
      "|black friday sump...|[https://www.amaz...|\n",
      "|bur cam 1/3 hp su...|[https://www.sump...|\n",
      "|campbell hausfeld...|[https://www.mena...|\n",
      "|can you connect s...|[https://www.roto...|\n",
      "|changing out sump...|[https://www.fres...|\n",
      "|clogged sump pump...|[https://homeguid...|\n",
      "|coleman effluent ...|[https://www.amaz...|\n",
      "|consumer report b...|[https://bestcons...|\n",
      "+--------------------+--------------------+\n",
      "only showing top 20 rows\n",
      "\n"
     ]
    }
   ],
   "source": [
    "keyword2url.show()"
   ]
  },
  {
   "cell_type": "code",
   "execution_count": 11,
   "metadata": {},
   "outputs": [],
   "source": [
    "df3 = keyword2url.withColumn(\"k_id\", F.monotonically_increasing_id())\n",
    "df3.createOrReplaceTempView('df3')\n",
    "df3 = spark.sql('select row_number() over (order by \"k_id\") as Keyword_id, * from df3').drop('k_id')"
   ]
  },
  {
   "cell_type": "code",
   "execution_count": 12,
   "metadata": {
    "scrolled": true
   },
   "outputs": [
    {
     "name": "stdout",
     "output_type": "stream",
     "text": [
      "+----------+--------------------+--------------------+\n",
      "|Keyword_id|             Keyword|            urlIndex|\n",
      "+----------+--------------------+--------------------+\n",
      "|         1|1/4 vs 1/3 sump pump|[https://www.ag.n...|\n",
      "|         2|2 stage dry sump ...|[https://www.drys...|\n",
      "|         3|3 phase sump pump...|[https://www.sept...|\n",
      "|         4|6-cia-ml 1/3 hp s...|[https://www.home...|\n",
      "|         5|add battery to ex...|[https://combatwa...|\n",
      "|         6|add battery to su...|[https://resource...|\n",
      "|         7|adjusting zoeller...|[https://www.zoel...|\n",
      "|         8|average sump pump...|[https://www.rado...|\n",
      "|         9|battery backup su...|[https://www.home...|\n",
      "|        10|best sump pump fo...|[https://www.pres...|\n",
      "|        11|best way to drain...|[https://www.base...|\n",
      "|        12|big john automati...|[https://www.norr...|\n",
      "|        13|black friday sump...|[https://www.amaz...|\n",
      "|        14|bur cam 1/3 hp su...|[https://www.sump...|\n",
      "|        15|campbell hausfeld...|[https://www.mena...|\n",
      "|        16|can you connect s...|[https://www.roto...|\n",
      "|        17|changing out sump...|[https://www.fres...|\n",
      "|        18|clogged sump pump...|[https://homeguid...|\n",
      "|        19|coleman effluent ...|[https://www.amaz...|\n",
      "|        20|consumer report b...|[https://bestcons...|\n",
      "|        21|cover up sump pum...|[https://www.yout...|\n",
      "|        22|do all houses nee...|[https://intekcle...|\n",
      "|        23|do i need a sump ...|[https://crawlspa...|\n",
      "|        24|do i really need ...|[https://www.home...|\n",
      "|        25| drano for sump pump|[https://www.redd...|\n",
      "|        26|everbilt sump pum...|[https://www.home...|\n",
      "|        27|flotec cast iron ...|[https://www.home...|\n",
      "|        28|furniture to hide...|[https://nl.pinte...|\n",
      "|        29|gfci keeps trippi...|[https://www.redd...|\n",
      "|        30|   gfci on sump pump|[http://www.capit...|\n",
      "|        31|goulds st71 sump ...|[https://goulds.c...|\n",
      "|        32|how big should a ...|[https://www.rado...|\n",
      "|        33|how do i know whi...|[https://www.sump...|\n",
      "|        34|how does a sump p...|[https://www.fres...|\n",
      "|        35|how far should ch...|[https://www.a-to...|\n",
      "|        36|how much is a sum...|[https://www.home...|\n",
      "|        37|how much to have ...|[https://www.impr...|\n",
      "|        38|how often to clea...|[https://www.mrro...|\n",
      "|        39|how to adjust flo...|[https://homestea...|\n",
      "|        40|how to cut a sump...|[https://www.wiki...|\n",
      "|        41|how to determine ...|[https://www.wate...|\n",
      "|        42|how to find sump ...|[https://www.yesp...|\n",
      "|        43|how to hook up a ...|[https://www.yout...|\n",
      "|        44|how to install ra...|[https://www.indo...|\n",
      "|        45|how to stop sump ...|[https://www.aqua...|\n",
      "|        46|hp cast iron sump...|[https://www.amaz...|\n",
      "|        47|hydromatic sump p...|[https://www.pent...|\n",
      "|        48|indoor vs outdoor...|[https://diy.stac...|\n",
      "|        49|industrial size s...|[https://www.grai...|\n",
      "|        50|is it ok to turn ...|[https://homes.wi...|\n",
      "|        51|liberty 257 sump ...|[http://www.liber...|\n",
      "|        52|liberty sj10a wat...|[http://www.liber...|\n",
      "|        53|little giant sump...|[https://littlegi...|\n",
      "|        54|low profile sump ...|[https://www.pint...|\n",
      "|        55|  low watt sump pump|[https://www.amaz...|\n",
      "|        56|mini sump pump fo...|[https://www.amaz...|\n",
      "|        57|moen smart sump p...|[https://www.moen...|\n",
      "|        58|my sump pump is t...|[https://www.base...|\n",
      "|        59|      oase sump pump|[https://www.oase...|\n",
      "|        60|piggyback plug su...|[https://www.home...|\n",
      "|        61| pipe size sump pump|[https://www.uswa...|\n",
      "|        62| piping to sump pump|[https://www.base...|\n",
      "|        63|pjm-avs-33 sump pump|[https://jmipumps...|\n",
      "|        64|pro series 2400 s...|[https://s3.amazo...|\n",
      "|        65|pro series sump p...|[https://www.stop...|\n",
      "|        66|pro series sump p...|[https://www.stop...|\n",
      "|        67|recycle sump pump...|[https://www.redd...|\n",
      "|        68|replacing an exis...|[https://www.home...|\n",
      "|        69|shellback torpedo...|[https://api.ferg...|\n",
      "|        70|should a sump pum...|[https://homes.wi...|\n",
      "|        71|should i buy a ho...|[https://www.home...|\n",
      "|        72|sump pump 12v bat...|[https://www.home...|\n",
      "|        73|sump pump alarm o...|[https://www.amaz...|\n",
      "|        74|sump pump and wee...|[https://www.base...|\n",
      "|        75|sump pump basin m...|[https://www.mena...|\n",
      "|        76|sump pump basin n...|[https://www.popu...|\n",
      "|        77|sump pump basin r...|[https://www.fres...|\n",
      "|        78|sump pump battery...|[https://www.sump...|\n",
      "|        79|sump pump battery...|[https://diy.stac...|\n",
      "|        80|sump pump causing...|[https://www.base...|\n",
      "|        81|  sump pump clog fix|[https://homeguid...|\n",
      "|        82|sump pump cover g...|[https://basc.pnn...|\n",
      "|        83|sump pump drain i...|[https://www.pint...|\n",
      "|        84|sump pump drain p...|[https://puroclea...|\n",
      "|        85|sump pump drainag...|[https://www.pint...|\n",
      "|        86|sump pump free ph...|[https://www.isto...|\n",
      "|        87|sump pump freezin...|[https://www.amfa...|\n",
      "|        88| sump pump freshener|[https://www.amaz...|\n",
      "|        89|sump pump freshwater|[http://comeintot...|\n",
      "|        90|  sump pump grundfos|[https://product-...|\n",
      "|        91|sump pump hose pr...|[https://www.prin...|\n",
      "|        92|sump pump install...|[https://www.yout...|\n",
      "|        93|sump pump is not ...|[https://www.trac...|\n",
      "|        94|sump pump lever n...|[https://homeguid...|\n",
      "|        95|sump pump lids fo...|[https://www.home...|\n",
      "|        96|sump pump limit s...|[https://www.home...|\n",
      "|        97|sump pump makes n...|[https://www.base...|\n",
      "|        98|sump pump making ...|[https://bayaream...|\n",
      "|        99|sump pump making ...|[https://www.thep...|\n",
      "|       100|sump pump motor t...|[https://www.trac...|\n",
      "|       101|        sump pump nl|[https://shop.eri...|\n",
      "|       102|sump pump overloa...|[https://www.sump...|\n",
      "|       103|       sump pump pen|[https://rooterma...|\n",
      "|       104|sump pump pumping...|[https://www.base...|\n",
      "|       105|   sump pump rattles|[https://www.base...|\n",
      "|       106|   sump pump removed|[https://www.yout...|\n",
      "|       107|sump pump runs in...|[https://www.sump...|\n",
      "|       108|      sump pump sask|[https://www.base...|\n",
      "|       109|sump pump sealed lid|[https://www.nach...|\n",
      "|       110|sump pump size br...|[https://ask-the-...|\n",
      "|       111|  sump pump surround|[https://www.pint...|\n",
      "|       112|sump pump switch ...|[https://www.trac...|\n",
      "|       113|sump pump to pump...|[https://www.sump...|\n",
      "|       114|sump pump trippin...|[https://www.sump...|\n",
      "|       115|sump pump vs bilg...|[https://www.comp...|\n",
      "|       116|sump pump without...|[https://crawlspa...|\n",
      "|       117|unclogging sump p...|[https://homeguid...|\n",
      "|       118|utilitech pro sum...|[https://www.lowe...|\n",
      "|       119|vertical cast iro...|[https://www.home...|\n",
      "|       120|victory sump pump...|[https://www.ebay...|\n",
      "|       121|washing machine d...|[https://morocco-...|\n",
      "|       122|water spraying fr...|[https://combatwa...|\n",
      "|       123|what is a sump pu...|[https://www.tria...|\n",
      "|       124|what is the impel...|[https://www.grai...|\n",
      "|       125|where is my sump ...|[http://nirhomein...|\n",
      "|       126|where to get a su...|[https://www.home...|\n",
      "|       127|where to run sump...|[https://www.base...|\n",
      "|       128|why does my batte...|[https://bayaream...|\n",
      "|       129|will sump pump ho...|[https://acculeve...|\n",
      "|       130|zoeller vs hydrom...|[https://www.plbg...|\n",
      "|       131|17 inch sump pump...|[https://www.home...|\n",
      "|       132|addison il sump pump|[https://masplumb...|\n",
      "|       133| alarm for sump pump|[https://www.amaz...|\n",
      "|       134|automatic sump pu...|[https://www.amaz...|\n",
      "|       135|avoid house with ...|[https://www.home...|\n",
      "+----------+--------------------+--------------------+\n",
      "only showing top 135 rows\n",
      "\n"
     ]
    }
   ],
   "source": [
    "df3.show(135)"
   ]
  },
  {
   "cell_type": "code",
   "execution_count": 20,
   "metadata": {},
   "outputs": [
    {
     "name": "stdout",
     "output_type": "stream",
     "text": [
      "+----------+\n",
      "|Keyword_id|\n",
      "+----------+\n",
      "|     14188|\n",
      "+----------+\n",
      "\n"
     ]
    }
   ],
   "source": [
    "df3.where(df3.Keyword == \"my sump pump smells like sewage\").select(\"Keyword_id\").show()"
   ]
  },
  {
   "cell_type": "code",
   "execution_count": 13,
   "metadata": {},
   "outputs": [],
   "source": [
    "df4 = df3.withColumn(\"Url\", F.explode(df3.urlIndex)) \\\n",
    "      .drop(\"urlIndex\") \\\n",
    "      #.withColumn(\"url_id\", F.monotonically_increasing_id())"
   ]
  },
  {
   "cell_type": "code",
   "execution_count": 14,
   "metadata": {},
   "outputs": [
    {
     "name": "stdout",
     "output_type": "stream",
     "text": [
      "+----------+---------------------+----------------------------------------+\n",
      "|Keyword_id|              Keyword|                                     Url|\n",
      "+----------+---------------------+----------------------------------------+\n",
      "|         1| 1/4 vs 1/3 sump pump|https://www.ag.ndsu.edu/publications/...|\n",
      "|         1| 1/4 vs 1/3 sump pump|https://www.ag.ndsu.edu/publications/...|\n",
      "|         1| 1/4 vs 1/3 sump pump|https://www.sumppumpsdirect.com/stori...|\n",
      "|         1| 1/4 vs 1/3 sump pump|https://www.sumppumpsdirect.com/stori...|\n",
      "|         1| 1/4 vs 1/3 sump pump|https://www.bluefrosthvac.com/blog/ch...|\n",
      "|         1| 1/4 vs 1/3 sump pump|https://www.1tomplumber.com/everythin...|\n",
      "|         1| 1/4 vs 1/3 sump pump|https://www.bobvila.com/articles/best...|\n",
      "|         1| 1/4 vs 1/3 sump pump|https://www.homeownershub.com/mainten...|\n",
      "|         1| 1/4 vs 1/3 sump pump|https://solvitnow.com/best-sump-pumps...|\n",
      "|         1| 1/4 vs 1/3 sump pump|https://www.homeconstructionimproveme...|\n",
      "|         1| 1/4 vs 1/3 sump pump|https://www.homedepot.com/p/1-4-HP-Su...|\n",
      "|         2|2 stage dry sump pump|https://www.drysump.com/index.php/oil...|\n",
      "|         2|2 stage dry sump pump|https://www.moroso.com/moroso-shop-br...|\n",
      "|         2|2 stage dry sump pump|                 https://www.aviaid.com/|\n",
      "|         2|2 stage dry sump pump|https://www.racingjunk.com/news/lubri...|\n",
      "|         2|2 stage dry sump pump|https://www.ebay.com/itm/New-Barnes-S...|\n",
      "|         2|2 stage dry sump pump|https://www.ebay.com/b/Other-Auto-Per...|\n",
      "|         2|2 stage dry sump pump|https://www.jegs.com/i/Moroso/710/223...|\n",
      "|         2|2 stage dry sump pump|https://www.petersonfluidsys.com/pump...|\n",
      "|         2|2 stage dry sump pump|https://savymotorsport.com.au/product...|\n",
      "+----------+---------------------+----------------------------------------+\n",
      "only showing top 20 rows\n",
      "\n"
     ]
    }
   ],
   "source": [
    "df4.show(truncate = 40)"
   ]
  },
  {
   "cell_type": "code",
   "execution_count": 19,
   "metadata": {},
   "outputs": [
    {
     "name": "stdout",
     "output_type": "stream",
     "text": [
      "+----------+\n",
      "|Keyword_id|\n",
      "+----------+\n",
      "|     14208|\n",
      "|     14208|\n",
      "|     14208|\n",
      "|     14208|\n",
      "|     14208|\n",
      "|     14208|\n",
      "|     14208|\n",
      "|     14208|\n",
      "|     14208|\n",
      "|     14208|\n",
      "+----------+\n",
      "\n"
     ]
    }
   ],
   "source": [
    "df4.where(df4.Keyword == \"my sump pump smells like sewage\").select(\"Keyword_id\").show()"
   ]
  },
  {
   "cell_type": "code",
   "execution_count": 18,
   "metadata": {},
   "outputs": [
    {
     "name": "stdout",
     "output_type": "stream",
     "text": [
      "+--------------------+\n",
      "|                 Url|\n",
      "+--------------------+\n",
      "|https://www.callk...|\n",
      "|https://mrplumber...|\n",
      "|https://apollohom...|\n",
      "|https://www.homea...|\n",
      "|https://floodnot....|\n",
      "|https://www.preci...|\n",
      "|https://www.ameri...|\n",
      "|https://www.sumpp...|\n",
      "|http://www.capita...|\n",
      "|https://www.remod...|\n",
      "+--------------------+\n",
      "\n"
     ]
    }
   ],
   "source": [
    "df4.where(df4.Keyword == \"my sump pump smells like sewage\").select(\"Url\").show()"
   ]
  },
  {
   "cell_type": "code",
   "execution_count": 108,
   "metadata": {},
   "outputs": [],
   "source": [
    "keyword_ids = df3.select('Keyword_id', 'Keyword')\n",
    "keyword_ids.coalesce(1).write.csv('keywords.csv')"
   ]
  },
  {
   "cell_type": "code",
   "execution_count": 95,
   "metadata": {},
   "outputs": [],
   "source": [
    "url2keyword = df4.drop('Keyword').groupBy('Url') \\\n",
    "    .agg(F.collect_list('Keyword_id').alias('Keywords_ids'))"
   ]
  },
  {
   "cell_type": "code",
   "execution_count": 96,
   "metadata": {},
   "outputs": [],
   "source": [
    "url2keyword = url2keyword.withColumn(\"u_id\", F.monotonically_increasing_id())\n",
    "url2keyword.createOrReplaceTempView('url2keyword')\n",
    "url2keyword = spark.sql('select row_number() over (order by \"u_id\") as Url_id, * from url2keyword').drop('u_id')"
   ]
  },
  {
   "cell_type": "code",
   "execution_count": 97,
   "metadata": {},
   "outputs": [
    {
     "name": "stdout",
     "output_type": "stream",
     "text": [
      "+------+--------------------+--------------------+\n",
      "|Url_id|                 Url|        Keywords_ids|\n",
      "+------+--------------------+--------------------+\n",
      "|     1|        (5 Year ...\"|              [9948]|\n",
      "|     2|              1 ...\"|             [18139]|\n",
      "|     3|                1 HP|             [16314]|\n",
      "|     4|          1-1/2 ...\"|[7514, 10802, 109...|\n",
      "|     5|    1-1/2\"\" - - ...\"|             [18967]|\n",
      "|     6| 1-1/2\"\" - - Amaz...|[508, 605, 761, 8...|\n",
      "|     7| 1-1/2\"\" - Amazon...|      [18068, 20569]|\n",
      "|     8|   1-1/2\"\" - Amazon\"|       [4701, 17570]|\n",
      "|     9| 1-1/2\"\" - Amazon...|       [6822, 11810]|\n",
      "|    10| 1-1/2\"\" - Amazon...|             [18068]|\n",
      "|    11| 1-1/2\"\" - Amazon...|[7854, 14149, 23288]|\n",
      "|    12|   1-1/2\"\"- Buy ...\"|             [18068]|\n",
      "|    13|            1/2 ...\"|             [24326]|\n",
      "|    14| 1/3 HP Stainless...|             [23890]|\n",
      "|    15|            1/4 ...\"|      [13208, 24943]|\n",
      "|    16|             10 ...\"|             [20142]|\n",
      "|    17|         10 GPM ...\"|             [14543]|\n",
      "|    18|               110 V|              [6025]|\n",
      "|    19|          15 ft ...\"|             [23748]|\n",
      "|    20|             15 ft.\"|             [20870]|\n",
      "+------+--------------------+--------------------+\n",
      "only showing top 20 rows\n",
      "\n"
     ]
    }
   ],
   "source": [
    "url2keyword.show()"
   ]
  },
  {
   "cell_type": "code",
   "execution_count": 107,
   "metadata": {},
   "outputs": [],
   "source": [
    "url_ids = url2keyword.select('Url_id', 'Url')\n",
    "url_ids.coalesce(1).write.csv('urls.csv')"
   ]
  },
  {
   "cell_type": "code",
   "execution_count": 100,
   "metadata": {},
   "outputs": [],
   "source": [
    "df5 = url2keyword.withColumn(\"Keyword_id\", F.explode(url2keyword.Keywords_ids)) \\\n",
    "      .drop(\"Keywords_ids\", \"Url\")"
   ]
  },
  {
   "cell_type": "code",
   "execution_count": 101,
   "metadata": {},
   "outputs": [
    {
     "name": "stdout",
     "output_type": "stream",
     "text": [
      "+------+----------+\n",
      "|Url_id|Keyword_id|\n",
      "+------+----------+\n",
      "|     1|      9948|\n",
      "|     2|     18139|\n",
      "|     3|     16314|\n",
      "|     4|      7514|\n",
      "|     4|     10802|\n",
      "|     4|     10986|\n",
      "|     4|     12846|\n",
      "|     4|     13512|\n",
      "|     4|     14963|\n",
      "|     4|     14992|\n",
      "|     4|     18068|\n",
      "|     4|     18068|\n",
      "|     4|     18123|\n",
      "|     4|     19200|\n",
      "|     4|     21437|\n",
      "|     4|     21842|\n",
      "|     4|     22287|\n",
      "|     4|     23288|\n",
      "|     4|     24268|\n",
      "|     4|     26403|\n",
      "+------+----------+\n",
      "only showing top 20 rows\n",
      "\n"
     ]
    }
   ],
   "source": [
    "df5.show()"
   ]
  },
  {
   "cell_type": "code",
   "execution_count": 106,
   "metadata": {},
   "outputs": [],
   "source": [
    "df5.coalesce(1).write.csv('url2keyword.csv')"
   ]
  },
  {
   "cell_type": "code",
   "execution_count": null,
   "metadata": {},
   "outputs": [],
   "source": []
  }
 ],
 "metadata": {
  "kernelspec": {
   "display_name": "Python 3",
   "language": "python",
   "name": "python3"
  },
  "language_info": {
   "codemirror_mode": {
    "name": "ipython",
    "version": 3
   },
   "file_extension": ".py",
   "mimetype": "text/x-python",
   "name": "python",
   "nbconvert_exporter": "python",
   "pygments_lexer": "ipython3",
   "version": "3.7.3"
  }
 },
 "nbformat": 4,
 "nbformat_minor": 2
}
